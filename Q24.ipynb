{
 "cells": [
  {
   "cell_type": "code",
   "execution_count": 1,
   "id": "2fa9b70b",
   "metadata": {},
   "outputs": [],
   "source": [
    "from scipy import stats\n",
    "import numpy as np"
   ]
  },
  {
   "cell_type": "code",
   "execution_count": 2,
   "id": "2dba3236",
   "metadata": {},
   "outputs": [],
   "source": [
    "#Hypothesis test\n",
    "#alternative hypothesis(h1):Average life of a bulb is more than 260 (x>260)\n",
    "#null hypothesis(ho):Average life of a bulb is less or equal to 260 (x<=260)"
   ]
  },
  {
   "cell_type": "code",
   "execution_count": 3,
   "id": "e928a782",
   "metadata": {},
   "outputs": [],
   "source": [
    "#testing the hypothesis"
   ]
  },
  {
   "cell_type": "code",
   "execution_count": 4,
   "id": "6c04dd49",
   "metadata": {},
   "outputs": [
    {
     "data": {
      "text/plain": [
       "-0.4714"
      ]
     },
     "execution_count": 4,
     "metadata": {},
     "output_type": "execute_result"
    }
   ],
   "source": [
    "# x=260 t=(sample_m-pop_m)/(sd/sqrt(n))\n",
    "t=(260-270)/(90/np.sqrt(18))\n",
    "round(t,4)"
   ]
  },
  {
   "cell_type": "code",
   "execution_count": 5,
   "id": "46bcec45",
   "metadata": {},
   "outputs": [],
   "source": [
    "#fing (x<=260) for null hypothesis"
   ]
  },
  {
   "cell_type": "code",
   "execution_count": 6,
   "id": "9eedfc4b",
   "metadata": {},
   "outputs": [
    {
     "data": {
      "text/plain": [
       "0.32167411684460556"
      ]
     },
     "execution_count": 6,
     "metadata": {},
     "output_type": "execute_result"
    }
   ],
   "source": [
    "p_value=1-stats.t.cdf(abs(-0.4714),df=17)\n",
    "p_value\n"
   ]
  },
  {
   "cell_type": "code",
   "execution_count": 7,
   "id": "cb62930b",
   "metadata": {},
   "outputs": [],
   "source": [
    "#the p-value is greater than 0.05 so we are accepting the alternative hypothesis"
   ]
  },
  {
   "cell_type": "code",
   "execution_count": null,
   "id": "a6c651c0",
   "metadata": {},
   "outputs": [],
   "source": []
  },
  {
   "cell_type": "code",
   "execution_count": null,
   "id": "55cbee72",
   "metadata": {},
   "outputs": [],
   "source": []
  }
 ],
 "metadata": {
  "kernelspec": {
   "display_name": "Python 3 (ipykernel)",
   "language": "python",
   "name": "python3"
  },
  "language_info": {
   "codemirror_mode": {
    "name": "ipython",
    "version": 3
   },
   "file_extension": ".py",
   "mimetype": "text/x-python",
   "name": "python",
   "nbconvert_exporter": "python",
   "pygments_lexer": "ipython3",
   "version": "3.11.4"
  }
 },
 "nbformat": 4,
 "nbformat_minor": 5
}
